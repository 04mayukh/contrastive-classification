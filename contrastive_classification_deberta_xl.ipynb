{
 "cells": [
  {
   "cell_type": "code",
   "execution_count": null,
   "metadata": {
    "id": "wQika3il0lFt"
   },
   "outputs": [],
   "source": [
    "import os\n",
    "import numpy as np\n",
    "import pandas as pd\n",
    "import string\n",
    "from nltk.corpus import stopwords\n",
    "import re\n",
    "import os\n",
    "from collections import Counter\n",
    "import json\n",
    "\n",
    "import ekphrasis\n",
    "from ekphrasis.classes.preprocessor import TextPreProcessor\n",
    "from ekphrasis.classes.tokenizer import SocialTokenizer\n",
    "from ekphrasis.dicts.emoticons import emoticons\n",
    "import gc\n",
    "import emoji\n",
    "from sklearn.metrics import f1_score\n",
    "import matplotlib.pyplot as plt\n",
    "import numpy as np\n",
    "from transformers import BertTokenizer, BertModel, AutoTokenizer, MPNetModel, RobertaModel, BloomModel, OPTModel, AutoModel\n",
    "import torch\n",
    "from torch import nn\n",
    "from torch.utils.data import Dataset, DataLoader\n",
    "from tqdm import tqdm\n",
    "from sklearn.utils.class_weight import compute_class_weight\n",
    "from collections import Counter\n",
    "from scipy.spatial.distance import jensenshannon\n",
    "from sklearn.metrics import recall_score\n",
    "from sklearn.metrics import recall_score\n",
    "from utils import *"
   ]
  },
  {
   "cell_type": "code",
   "execution_count": null,
   "metadata": {
    "id": "pXcJamjl1eL1"
   },
   "outputs": [],
   "source": [
    "def print_report(y_pred, y):\n",
    "    print(classification_report(y, y_pred, digits=3))"
   ]
  },
  {
   "cell_type": "markdown",
   "metadata": {
    "id": "CYph2MAJdTO2"
   },
   "source": [
    "<h6>Loading the dataset</h6>"
   ]
  },
  {
   "cell_type": "code",
   "execution_count": null,
   "metadata": {
    "colab": {
     "base_uri": "https://localhost:8080/"
    },
    "id": "ihW0zZI60lF1",
    "outputId": "0cdb7c56-fbd0-4453-ca04-cbf7bca03638"
   },
   "outputs": [],
   "source": [
    "text_processor = get_text_preprocessor()"
   ]
  },
  {
   "cell_type": "code",
   "execution_count": null,
   "metadata": {
    "id": "NaYq4gfQOPLg"
   },
   "outputs": [],
   "source": [
    "text_train, train_labels = get_data(\"data/tweet_goEmotions_train.csv\")\n",
    "text_val, val_labels = get_data(\"data/tweet_goEmotions_val.csv\")\n",
    "text_test, test_labels = get_data(\"data/tweet_goEmotions_test.csv\")"
   ]
  },
  {
   "cell_type": "code",
   "execution_count": null,
   "metadata": {
    "colab": {
     "base_uri": "https://localhost:8080/"
    },
    "id": "yJYpGI3I0lF4",
    "outputId": "a9162c97-77e5-4435-fe66-a9abb8429859"
   },
   "outputs": [],
   "source": [
    "print(len(text_train))\n",
    "print(len(text_val))\n",
    "print(len(text_test))"
   ]
  },
  {
   "cell_type": "markdown",
   "metadata": {
    "id": "M0M8n18CfhaI"
   },
   "source": [
    "<h6>Text pre-processing</h6>"
   ]
  },
  {
   "cell_type": "code",
   "execution_count": null,
   "metadata": {
    "colab": {
     "base_uri": "https://localhost:8080/"
    },
    "id": "llkzBI6cSsz-",
    "outputId": "9801dbdf-94b3-4a35-c03b-49551f0972e2"
   },
   "outputs": [],
   "source": [
    "text_train = pre_process_text(text_train, 'slang.txt', text_processor)\n",
    "print(\"******************************** Train set Completed ***************************************\")\n",
    "text_val = pre_process_text(text_val, 'slang.txt', text_processor)\n",
    "print(\"******************************** Val set Completed ***************************************\")\n",
    "text_test = pre_process_text(text_test, 'slang.txt', text_processor)\n",
    "print(\"******************************** Test set Completed ***************************************\")"
   ]
  },
  {
   "cell_type": "markdown",
   "metadata": {
    "id": "hlV_CvGkSCH7"
   },
   "source": [
    "<h8>Longest tokens analysis</h8>"
   ]
  },
  {
   "cell_type": "code",
   "execution_count": null,
   "metadata": {
    "colab": {
     "base_uri": "https://localhost:8080/"
    },
    "id": "ChqDR4Sd0lF7",
    "outputId": "81432e66-4f50-4dd0-b5ba-29e44eea30d5"
   },
   "outputs": [],
   "source": [
    "u = lambda text: len(text.split(\" \"))\n",
    "sentence_lengths = []\n",
    "for x in text_train:\n",
    "    sentence_lengths.append(u(x))\n",
    "print(sorted(sentence_lengths)[-100:])\n",
    "print(max(sentence_lengths))"
   ]
  },
  {
   "cell_type": "markdown",
   "metadata": {
    "id": "JLnotS31gIm3"
   },
   "source": [
    "<h6>Text pre-processing completed</h6>"
   ]
  },
  {
   "cell_type": "code",
   "execution_count": null,
   "metadata": {
    "colab": {
     "base_uri": "https://localhost:8080/",
     "height": 136,
     "referenced_widgets": [
      "ff3ba883af464049b35d8b9cd1416341",
      "2031d7ef2ecd4ad2a14d1eead05f66a8",
      "c90176f7170a478197dffb6c7697b22b",
      "491ac4c7a5754ca08ffe4c997a7d0510",
      "46ced2c56d6443fea1805157e04016b6",
      "5b07a929ffdc400daec61678121076d9",
      "16ea871984724b4ab4ec109c0f641a3b",
      "449ebc3e08fb45588aa0513d5a5a998c",
      "a6e98b88d44b4547b28f45356470aace",
      "140758c2f3de42fca990d3b78ef1641a",
      "712438651ce447c0a7103763f78f98d0",
      "53750011b049432eb656c0d5190ff262",
      "115a87eab6944a67819c714ac3d0a409",
      "3c4cf95fe06d4e4f91e094f2987afff9",
      "cf3fc0d0afc74448950e765328406215",
      "2d49cacf269440649afa56aac79c9d24",
      "c8f17d6244bc4d93895d31e748245029",
      "d334e17798664b12b4563a07da2b6e3d",
      "74d08e166dc044298bac253709feba3c",
      "a9b4075054ec483c83133cf88083cb53",
      "b9e70618670540199dfa934885e243aa",
      "7451881d395d40eeab5a5c2b418bbf2d"
     ]
    },
    "id": "ibR_JQiP1eL6",
    "outputId": "8e312399-770c-4f81-d62a-5eeb819de587"
   },
   "outputs": [],
   "source": [
    "# Label size should be changed corresponding to different datasets.\n",
    "# 28 for goEmotions\n",
    "# 32 for empatheticDialogue\n",
    "# 10 for tweetEmotion\n",
    "# 8  for tweetHate\n",
    "\n",
    "config = {\n",
    "    'model': AutoModel.from_pretrained(\"microsoft/deberta-xlarge\"),\n",
    "    'model_type': \"microsoft/deberta-xlarge\",\n",
    "    'embed_dim': 1024,\n",
    "    'label_size': 28\n",
    "}"
   ]
  },
  {
   "cell_type": "code",
   "execution_count": null,
   "metadata": {
    "id": "8vGQEaL9eE1J"
   },
   "outputs": [],
   "source": [
    "class datasetLoader(Dataset):\n",
    "\n",
    "    def __init__(self, input_ids, attention_mask, labels):\n",
    "        self.input_ids = input_ids\n",
    "        self.attention_mask = attention_mask\n",
    "        self.labels = labels\n",
    "\n",
    "    def __len__(self):\n",
    "        return len(self.input_ids)\n",
    "\n",
    "    def __getitem__(self, idx):\n",
    "        input_ids = self.input_ids[idx]\n",
    "        attention_mask = self.attention_mask[idx]\n",
    "        label = self.labels[idx]\n",
    "        return {\"input_ids\": input_ids, \"attention_mask\": attention_mask, \"labels\": torch.tensor(label)}"
   ]
  },
  {
   "cell_type": "code",
   "execution_count": null,
   "metadata": {
    "colab": {
     "base_uri": "https://localhost:8080/",
     "height": 113,
     "referenced_widgets": [
      "e1de547aa02c489aae202d183840d5d0",
      "a5b0e71e78374afa8c2ebf493d36e765",
      "2ca60967a12a4c4ebdb04db87c1800c6",
      "1eca8a0fa2224fe1950603940312c6a1",
      "548211d9a0d14df3b43787ae584f709b",
      "3c6a6e3dfff74be7a6e92604ced33f21",
      "4142da558d60426a881fcde5624d8d0f",
      "23449600ce364810bc958a8667c8ef23",
      "6768e4c4afb94da89ed61c71602bdfd8",
      "176ef2b9ed7f432a98e786e8208ff329",
      "26aaac6b1a084ebd9e281a2c7fde8167",
      "b92b40a699f1420a99a556ca072fb3cf",
      "6ce41ed91d034c068a6e38681667ec11",
      "fc3866bfefd04519822e9db2a7129259",
      "fee20f47cf0b40d3894ef0934435027c",
      "43dd4111e06548d9bc081f0ca19eabf6",
      "c570d99368884f1ab3710804cd5edcc9",
      "e944e2e1ec554204871b69850fd4043f",
      "c047f113fe4a47b38626989b4960ac10",
      "c36e5f3d80884910aa27ca5bef0fffac",
      "e2cd7e05eaf94a8eb505874a6a977fd8",
      "be5c2042b43749cb8dedef1f911d04a4",
      "806512d5fad14ad0a357037dfb922797",
      "d962bedc09c8440b9f8945c79c10e003",
      "92607edf2fc549e589a9804a34af8df1",
      "a9175bd13d13456fb925d5b202fd996d",
      "c2b52b2e817345bcb53c59989540a3cc",
      "107ec73377494768960551235ecc1971",
      "9aeda3859cc345978eb4742d43e3b67a",
      "27def73872124485b7b2f7fabf4fb5eb",
      "ba936716316245718d768b2e95763cc4",
      "965c45245380457d8ab119fc95dae007",
      "486b5a5af8144e8ba92af22541512228"
     ]
    },
    "id": "jiVnG7m2_vtL",
    "outputId": "8ea9bb59-e115-4079-9aa7-821f4f73cd50"
   },
   "outputs": [],
   "source": [
    "tokenizer = AutoTokenizer.from_pretrained(config['model_type'])"
   ]
  },
  {
   "cell_type": "code",
   "execution_count": null,
   "metadata": {
    "id": "72k7OQYr_vha"
   },
   "outputs": [],
   "source": [
    "# max_length: goEmotions - 40\n",
    "# max_length: empathetic - 40\n",
    "# max_length: tweetEmotion - 50\n",
    "# max_length: tweetHate - 70\n",
    "\n",
    "train_encodings = tokenizer(list(text_train), max_length=40, truncation=True, padding='longest', return_tensors='pt')\n",
    "val_encodings = tokenizer(list(text_val), max_length=40, truncation=True, padding='longest', return_tensors='pt')\n",
    "test_encodings = tokenizer(list(text_test), max_length=40, truncation=True, padding='longest', return_tensors='pt')"
   ]
  },
  {
   "cell_type": "code",
   "execution_count": null,
   "metadata": {
    "id": "r-lodmGN1el4"
   },
   "outputs": [],
   "source": [
    "train_dataset = datasetLoader(train_encodings['input_ids'], train_encodings['attention_mask'], train_labels)\n",
    "val_dataset = datasetLoader(val_encodings['input_ids'], val_encodings['attention_mask'], val_labels)\n",
    "test_dataset = datasetLoader(test_encodings['input_ids'], test_encodings['attention_mask'], test_labels)"
   ]
  },
  {
   "cell_type": "code",
   "execution_count": null,
   "metadata": {
    "id": "1XVAL8yRveki"
   },
   "outputs": [],
   "source": [
    "train_dataloader = DataLoader(train_dataset, batch_size=16, shuffle=True)\n",
    "val_dataloader = DataLoader(val_dataset, batch_size=16, shuffle=True)\n",
    "test_dataloader = DataLoader(test_dataset, batch_size=16, shuffle=False)"
   ]
  },
  {
   "cell_type": "code",
   "execution_count": null,
   "metadata": {
    "colab": {
     "base_uri": "https://localhost:8080/"
    },
    "id": "Ov9f8NrgKRoh",
    "outputId": "2544e45c-55f2-4d51-b7b4-f63d948eb663"
   },
   "outputs": [],
   "source": [
    "# Checking the datatype\n",
    "for dl in train_dataloader:\n",
    "    print((dl['input_ids'].dtype))\n",
    "    print((dl['attention_mask'].dtype))\n",
    "    break"
   ]
  },
  {
   "cell_type": "code",
   "execution_count": null,
   "metadata": {
    "colab": {
     "base_uri": "https://localhost:8080/"
    },
    "id": "gQBm8alk-Xyk",
    "outputId": "026c3675-d5c8-4ec4-d104-a4236ea2a291"
   },
   "outputs": [],
   "source": [
    "# Get cpu, gpu or mps device for training.\n",
    "device = (\n",
    "    \"cuda:4\"\n",
    "    if torch.cuda.is_available()\n",
    "    else \"mps\"\n",
    "    if torch.backends.mps.is_available()\n",
    "    else \"cpu\"\n",
    ")\n",
    "print(f\"Using {device} device\")"
   ]
  },
  {
   "cell_type": "markdown",
   "metadata": {
    "id": "lR4u_GVo1eL8"
   },
   "source": [
    "<h9>Defining the main model class</h9>"
   ]
  },
  {
   "cell_type": "code",
   "execution_count": null,
   "metadata": {
    "id": "MaKpWUe2mQQO"
   },
   "outputs": [],
   "source": [
    "# Classification head is defined seperately to easily resuse with early exiting.\n",
    "# Config dictionary is used to define the classification head.\n",
    "\n",
    "class exit_classification_head(nn.Module):\n",
    "    def __init__(self, embed_dim, label_size):\n",
    "        super(exit_classification_head, self).__init__()\n",
    "        self.embed_dim = embed_dim\n",
    "        self.label_size = label_size\n",
    "\n",
    "        self.linear_relu_stack = nn.Sequential(\n",
    "            nn.Linear(self.embed_dim, 128),\n",
    "            nn.ReLU(),\n",
    "            nn.Linear(128, self.label_size)\n",
    "        )\n",
    "\n",
    "    def forward(self, feature_logits):\n",
    "        logits = self.linear_relu_stack(feature_logits)\n",
    "        return logits"
   ]
  },
  {
   "cell_type": "code",
   "execution_count": null,
   "metadata": {},
   "outputs": [],
   "source": [
    "# del model\n",
    "# del config\n",
    "# del optimizer\n",
    "# import gc\n",
    "# gc.collect()\n",
    "# torch.cuda.empty_cache()"
   ]
  },
  {
   "cell_type": "code",
   "execution_count": null,
   "metadata": {
    "colab": {
     "base_uri": "https://localhost:8080/"
    },
    "id": "ouQJfuw6-XvI",
    "outputId": "c4184ba5-38dc-4fda-d985-bf80f93888e7"
   },
   "outputs": [],
   "source": [
    "class contrastiveNetwork(nn.Module):\n",
    "    def __init__(self, config):\n",
    "        super(contrastiveNetwork, self).__init__()\n",
    "\n",
    "        self.embed_dim = config['embed_dim']\n",
    "        self.label_size = config['label_size']\n",
    "\n",
    "        self.model = config['model']\n",
    "        self.classification_head = exit_classification_head(self.embed_dim, self.label_size)\n",
    "        self.softmax = nn.Softmax(dim=1)\n",
    "\n",
    "\n",
    "    def forward(self, input_ids, attention_mask):\n",
    "        pooler = self.model(input_ids, attention_mask).last_hidden_state[:,0,:]\n",
    "        logits = self.classification_head(pooler)\n",
    "        probs = self.softmax(logits)\n",
    "        return logits, probs\n",
    "\n",
    "\n",
    "model = contrastiveNetwork(config)\n",
    "model.to(device)\n",
    "print(model)"
   ]
  },
  {
   "cell_type": "code",
   "execution_count": null,
   "metadata": {},
   "outputs": [],
   "source": [
    "for param in model.model.embeddings.parameters():\n",
    "    param.requires_grad = False"
   ]
  },
  {
   "cell_type": "code",
   "execution_count": null,
   "metadata": {},
   "outputs": [],
   "source": [
    "att_layers = [i for i in range(33)]\n",
    "for j in att_layers:\n",
    "    for param in model.model.encoder.layer[j].parameters():\n",
    "        param.requires_grad = False"
   ]
  },
  {
   "cell_type": "code",
   "execution_count": null,
   "metadata": {
    "id": "a6XH5jW9-Xsk"
   },
   "outputs": [],
   "source": [
    "loss_fn = nn.CrossEntropyLoss()"
   ]
  },
  {
   "cell_type": "code",
   "execution_count": null,
   "metadata": {
    "id": "G8pV-ZG4fHVI"
   },
   "outputs": [],
   "source": [
    "optimizer = torch.optim.Adam(model.parameters(), lr=4e-6)"
   ]
  },
  {
   "cell_type": "code",
   "execution_count": null,
   "metadata": {
    "id": "L33kQwu0-XqA"
   },
   "outputs": [],
   "source": [
    "def train(dataloader, model, loss_fn, optimizer):\n",
    "\n",
    "    size = len(dataloader.dataset)\n",
    "    model.train()\n",
    "    \n",
    "    loop = tqdm(enumerate(dataloader), leave=False, total=len(dataloader))\n",
    "\n",
    "    for batch, dl in loop:\n",
    "        input_ids = dl['input_ids'].to(device)\n",
    "        attention_mask = dl['attention_mask'].to(device)\n",
    "        y = dl['labels'].to(device)\n",
    "\n",
    "        # Compute prediction error\n",
    "        pred, probs = model(input_ids, attention_mask)\n",
    "        loss = loss_fn(pred, y)\n",
    "\n",
    "        # Backpropagation\n",
    "        loss.backward()\n",
    "        optimizer.step()\n",
    "        optimizer.zero_grad()\n",
    "\n",
    "        if batch % 100 == 0:\n",
    "            loss, current = loss.item(), (batch + 1) * len(y)\n",
    "            print(f\"loss: {loss:>7f}  [{current:>5d}/{size:>5d}]\")"
   ]
  },
  {
   "cell_type": "code",
   "execution_count": null,
   "metadata": {
    "id": "lJ2UULYdqwGG"
   },
   "outputs": [],
   "source": [
    "# This function sets the forward hooks which store the output logits.\n",
    "# Only ([CLS]/<s> token logits are stored for classification). For decoding index of current step can be passed.\n",
    "\n",
    "def getlogits(name):\n",
    "    def hook(model, input, output):\n",
    "        output = output.detach()\n",
    "        logits[name] = output[:,0,:]\n",
    "    return hook\n",
    "\n",
    "# Initialising the hooks on the output layers of each attention block\n",
    "def initialise_hooks(model):\n",
    "    hooks = {}\n",
    "    blocks = len(model.model.encoder.layer)\n",
    "    for i in range(0, blocks):\n",
    "        hooks[i] = model.model.encoder.layer[i].output.register_forward_hook(getlogits('block_' + str(i)))\n",
    "    return hooks\n",
    "\n",
    "# Removing the hooks once eval is done -- cleanup step\n",
    "def detach_hooks(hooks, model):\n",
    "    blocks = len(model.model.encoder.layer)\n",
    "    for i in range(0, blocks):\n",
    "        hooks[i].remove()\n",
    "\n",
    "# Get the softmax probabilities for the outputs from each block ([CLS]/<s> token)\n",
    "def get_early_logits(early_probs, model, attention_mask):\n",
    "    for i in range(len(early_probs)):\n",
    "        early_logits = logits['block_' + str(i)]\n",
    "        early_logits = model.classification_head(early_logits)\n",
    "        probs = model.softmax(early_logits)\n",
    "        early_probs['block_' + str(i)].append(probs.cpu())\n",
    "    return early_probs"
   ]
  },
  {
   "cell_type": "code",
   "execution_count": null,
   "metadata": {
    "id": "P1oJfsAT6cJi"
   },
   "outputs": [],
   "source": [
    "def evaluation(dataloader, model, loss_fn):\n",
    "    size = len(dataloader.dataset)\n",
    "    num_batches = len(dataloader)\n",
    "    model.eval()\n",
    "    val_loss = 0\n",
    "    Y_pred = []\n",
    "    Y_true = []\n",
    "\n",
    "    # Setting up early exiting parameters.\n",
    "    global logits\n",
    "    logits = {}\n",
    "    early_probs = {}\n",
    "    hooks = initialise_hooks(model)\n",
    "    for i in range(0, len(model.model.encoder.layer)):\n",
    "        early_probs['block_' + str(i)] = []\n",
    "\n",
    "    # Early exit parameter setup finished\n",
    "    loop = tqdm(enumerate(dataloader), leave=False, total=len(dataloader))\n",
    "\n",
    "    with torch.no_grad():\n",
    "        for batch, dl in loop:\n",
    "            input_masks = dl['input_ids'].to(device)\n",
    "            attention_mask = dl['attention_mask'].to(device)\n",
    "            y = dl['labels'].to(device)\n",
    "            pred, probs = model(input_masks, attention_mask)\n",
    "            Y_pred.append(pred.argmax(1).cpu())\n",
    "            Y_true.append(y.cpu())\n",
    "            early_probs = get_early_logits(early_probs, model, attention_mask)\n",
    "    \n",
    "    detach_hooks(hooks, model)\n",
    "    # Checking logits output\n",
    "\n",
    "    for i in range(len(early_probs)):\n",
    "        early_probs['block_' + str(i)] = torch.cat(early_probs['block_' + str(i)])\n",
    "\n",
    "    # Whole dataset validation loop\n",
    "    Y_pred = torch.cat(Y_pred)\n",
    "    Y_true = torch.cat(Y_true)\n",
    "    print_report(Y_pred, Y_true)\n",
    "    return early_probs"
   ]
  },
  {
   "cell_type": "code",
   "execution_count": null,
   "metadata": {},
   "outputs": [],
   "source": [
    "# # Training step\n",
    "# epochs = 3\n",
    "# for t in range(epochs):\n",
    "#     print(f\"Epoch {t+1}\\n-------------------------------\")\n",
    "#     train(train_dataloader, model, loss_fn, optimizer)\n",
    "# print(\"Done!\")"
   ]
  },
  {
   "cell_type": "code",
   "execution_count": null,
   "metadata": {
    "id": "Ic9bH0ex2cu0"
   },
   "outputs": [],
   "source": [
    "# torch.save(model.state_dict(), 'goEmotions_deberta_xl.pth')\n",
    "# model.load_state_dict(torch.load('goEmotions_deberta_xl.pth', map_location=device))"
   ]
  },
  {
   "cell_type": "code",
   "execution_count": null,
   "metadata": {
    "colab": {
     "base_uri": "https://localhost:8080/"
    },
    "id": "Ay9D21IrU-Pw",
    "outputId": "ce5d38c2-48ee-4d02-d9ac-03641c6ba4ef"
   },
   "outputs": [],
   "source": [
    "# Dictionary of early exiting probabilities. \n",
    "# Stores woth keys block_n where n is the layer number.\n",
    "early_probs = evaluation(test_dataloader, model, loss_fn)"
   ]
  },
  {
   "cell_type": "code",
   "execution_count": null,
   "metadata": {
    "colab": {
     "base_uri": "https://localhost:8080/"
    },
    "id": "nijn9UeLVx-q",
    "outputId": "a7dfcb26-2ae4-42dc-81a5-0ae4b7817cc0"
   },
   "outputs": [],
   "source": [
    "# Can be used to print the result from early exiting layers.\n",
    "# print_report(early_probs['block_46'].argmax(1), test_labels)"
   ]
  },
  {
   "cell_type": "markdown",
   "metadata": {},
   "source": [
    "<h6>Amateur Layer Selection</h6>"
   ]
  },
  {
   "cell_type": "code",
   "execution_count": null,
   "metadata": {
    "id": "z9lIceT5XAKj"
   },
   "outputs": [],
   "source": [
    "# Dynamic amateur layer selection.\n",
    "# This function dynamically selects the \n",
    "# n_blocks defines the upper limit of layers not included for amateur layer selection.\n",
    "\n",
    "n_blocks = 45\n",
    "\n",
    "def get_max_diff(early_probs):\n",
    "    final_layer_probs = early_probs['block_47']\n",
    "    js_data = []\n",
    "    not_blocks = [\"block_\" + str(i) for i in range(0,n_blocks)] \n",
    "    for block, probs in early_probs.items():\n",
    "        if(block in not_blocks):\n",
    "            js_data.append(np.zeros(len(probs)))\n",
    "            continue\n",
    "        js_data.append((1-np.array(torch.nn.functional.cosine_similarity(final_layer_probs, probs, dim=1))/2))\n",
    "    return js_data"
   ]
  },
  {
   "cell_type": "code",
   "execution_count": null,
   "metadata": {
    "id": "KsN6Bv6zXb_5"
   },
   "outputs": [],
   "source": [
    "js = np.array(get_max_diff(early_probs))\n",
    "js = np.argmax(js.T, axis=1)"
   ]
  },
  {
   "cell_type": "code",
   "execution_count": null,
   "metadata": {},
   "outputs": [],
   "source": [
    "Counter(js)"
   ]
  },
  {
   "cell_type": "code",
   "execution_count": null,
   "metadata": {},
   "outputs": [],
   "source": [
    "dynamic_amateur = []\n",
    "i = 0\n",
    "for j in js:\n",
    "    t = 'block_'+str(j)\n",
    "    dynamic_amateur.append(early_probs[t][i].numpy())\n",
    "    i+=1\n",
    "dynamic_amateur = np.array(dynamic_amateur)"
   ]
  },
  {
   "cell_type": "code",
   "execution_count": null,
   "metadata": {
    "colab": {
     "base_uri": "https://localhost:8080/"
    },
    "id": "DIg5lKMvgp0J",
    "outputId": "e9dacf30-f046-41f7-9950-759c77b4e56a"
   },
   "outputs": [],
   "source": [
    "np.shape(dynamic_amateur)"
   ]
  },
  {
   "cell_type": "markdown",
   "metadata": {
    "id": "quflmm84zDZ9"
   },
   "source": [
    "<h5>Applying contrastive decoding</h5>"
   ]
  },
  {
   "cell_type": "code",
   "execution_count": null,
   "metadata": {
    "id": "ALIx5pSCfgKS"
   },
   "outputs": [],
   "source": [
    "probs_base = dynamic_amateur\n",
    "probs_large = early_probs['block_47'].numpy()"
   ]
  },
  {
   "cell_type": "code",
   "execution_count": null,
   "metadata": {
    "colab": {
     "base_uri": "https://localhost:8080/"
    },
    "id": "vkebj7onHfEw",
    "outputId": "97dc1728-f24f-4db9-94b3-670de1674fef"
   },
   "outputs": [],
   "source": [
    "print(np.shape(probs_base))\n",
    "print(np.shape(probs_large))"
   ]
  },
  {
   "cell_type": "code",
   "execution_count": null,
   "metadata": {
    "id": "BxHb2gQ51eMZ"
   },
   "outputs": [],
   "source": [
    "# Main class for CD.\n",
    "# The set_hyper_params function is used to set dynamic contrastive strength based on a bool paramter 'dynamic'.\n",
    "# beta is used for extrapolation layer is dynamic is 'True' else it represents the contrastive strength.\n",
    "\n",
    "class contrastive_decoding():\n",
    "    def __init__(self, p_exp_distribution, p_ama_distribution, jsd):\n",
    "        self.alpha = 1.0\n",
    "        self.beta = None\n",
    "        \n",
    "        self.p_exp = p_exp_distribution\n",
    "        self.p_ama = p_ama_distribution\n",
    "        self.jsd = jsd\n",
    "        \n",
    "    def initialise_beta(self, beta):\n",
    "        l_3 = np.ones(len(self.jsd))*beta\n",
    "        l_2 = np.ones(len(self.jsd))*47.0\n",
    "        l_1 = self.jsd\n",
    "        beta_d = (l_3-l_2)/(l_2-l_1)\n",
    "        beta_d = np.expand_dims(beta_d, axis=1)\n",
    "        return beta_d\n",
    "\n",
    "    def set_hyper_params(self, alpha, beta, dynamic=False):\n",
    "        # Seperate setter function as it makes it easy to evaluate CD for different hyperparameters with a single object.\n",
    "        self.alpha = alpha\n",
    "        if not dynamic:\n",
    "            self.beta = beta\n",
    "        else:\n",
    "            self.beta = self.initialise_beta(beta)\n",
    "\n",
    "    def get_plausibility_constraint(self, p_exp):\n",
    "        p_exp_max = np.max(p_exp, axis=1)\n",
    "        p_exp_max = np.expand_dims(p_exp_max, axis=1)\n",
    "        plausibility_ratio = np.divide(p_exp, p_exp_max)\n",
    "        plausibility_mask = (plausibility_ratio >= self.alpha).astype(dtype=int)\n",
    "        return plausibility_mask\n",
    "\n",
    "    def get_contrastive_pred(self):\n",
    "        plausibility_mask = self.get_plausibility_constraint(self.p_exp)\n",
    "        cd_score = (1+self.beta)*np.log(self.p_exp) - (self.beta)*np.log(self.p_ama)\n",
    "        cd_score = np.multiply(cd_score, plausibility_mask)\n",
    "        cd_score[cd_score == 0] = -999999999\n",
    "        return np.argmax(cd_score, axis=1)\n",
    "\n",
    "    def get_contrastive_prob(self):\n",
    "        plausibility_mask = self.get_plausibility_constraint(self.p_exp)\n",
    "        cd_score = (1+self.beta)*np.log(self.p_exp) - (self.beta)*np.log(self.p_ama)\n",
    "        return cd_score\n",
    "\n",
    "    def evaluate_cd(self, y):\n",
    "        pred_cd = self.get_contrastive_pred()\n",
    "        return f1_score(y, pred_cd, average='macro')\n",
    "\n",
    "    def evaluate_exp(self, y):\n",
    "        pred_exp = np.argmax(self.p_exp, axis=-1)\n",
    "        return f1_score(y, pred_exp, average='macro')"
   ]
  },
  {
   "cell_type": "code",
   "execution_count": null,
   "metadata": {
    "id": "7s87z_JI1eMZ"
   },
   "outputs": [],
   "source": [
    "# This function calls the contrastive decoding class and plots the results.\n",
    "def plot(cd_, alpha, beta_, true_labels, dynamic = False):\n",
    "    f1_exp = np.full(len(beta_), cd_.evaluate_exp(true_labels))\n",
    "    f1_val_cd = np.zeros(len(beta_))\n",
    "\n",
    "    for i, beta in enumerate(beta_):\n",
    "        cd_.set_hyper_params(alpha, beta, dynamic)\n",
    "        f1_val_cd[i] = cd_.evaluate_cd(true_labels)\n",
    "    \n",
    "    plt.title(\"alpha: \" + str(alpha))\n",
    "    plt.plot(beta_, f1_val_cd, marker='o', color='green')\n",
    "    plt.plot(beta_, f1_exp, color='green', linestyle='dashed')\n",
    "    plt.show()"
   ]
  },
  {
   "cell_type": "code",
   "execution_count": null,
   "metadata": {
    "id": "FlaReG-L1eMZ"
   },
   "outputs": [],
   "source": [
    "cd_obj = contrastive_decoding(probs_large, probs_base, js)"
   ]
  },
  {
   "cell_type": "code",
   "execution_count": null,
   "metadata": {
    "colab": {
     "base_uri": "https://localhost:8080/"
    },
    "id": "HFWRd7V71eMa",
    "outputId": "235010f1-e258-4b8d-9658-df65557c5a4a"
   },
   "outputs": [],
   "source": [
    "cd_obj.set_hyper_params(1.0, 0.0)\n",
    "print(cd_obj.evaluate_exp(test_labels))\n",
    "print(cd_obj.evaluate_cd(test_labels))"
   ]
  },
  {
   "cell_type": "code",
   "execution_count": null,
   "metadata": {},
   "outputs": [],
   "source": [
    "# Plots the CD results without dynamic contrastive strength\n",
    "alpha_ = [0.1, 0.2, 0.3, 0.4, 0.5, 0.6, 0.7, 0.8, 0.9, 1.0]\n",
    "beta_ = np.array([-.25, 0.0, .1, .2, .3, .4, .5, .6, .7, .8, .9, 1.0])\n",
    "for alpha in alpha_:\n",
    "    plot(cd_obj, alpha, beta_, test_labels, False)"
   ]
  },
  {
   "cell_type": "code",
   "execution_count": null,
   "metadata": {},
   "outputs": [],
   "source": [
    "# Plots the CD results with dynamic contrastive strength. beta_ here contains the extrapolation layer\n",
    "alpha_ = [0.1, 0.2, 0.3, 0.4, 0.5, 0.6, 0.7, 0.8, 0.9, 1.0]\n",
    "beta_ = np.arange(48,70)\n",
    "for alpha in alpha_:\n",
    "    plot(cd_obj, alpha, beta_, test_labels, True)"
   ]
  }
 ],
 "metadata": {
  "colab": {
   "provenance": []
  },
  "kernelspec": {
   "display_name": "Python 3 (ipykernel)",
   "language": "python",
   "name": "python3"
  },
  "language_info": {
   "codemirror_mode": {
    "name": "ipython",
    "version": 3
   },
   "file_extension": ".py",
   "mimetype": "text/x-python",
   "name": "python",
   "nbconvert_exporter": "python",
   "pygments_lexer": "ipython3",
   "version": "3.11.5"
  },
  "widgets": {
   "application/vnd.jupyter.widget-state+json": {
    "107ec73377494768960551235ecc1971": {
     "model_module": "@jupyter-widgets/base",
     "model_module_version": "1.2.0",
     "model_name": "LayoutModel",
     "state": {
      "_model_module": "@jupyter-widgets/base",
      "_model_module_version": "1.2.0",
      "_model_name": "LayoutModel",
      "_view_count": null,
      "_view_module": "@jupyter-widgets/base",
      "_view_module_version": "1.2.0",
      "_view_name": "LayoutView",
      "align_content": null,
      "align_items": null,
      "align_self": null,
      "border": null,
      "bottom": null,
      "display": null,
      "flex": null,
      "flex_flow": null,
      "grid_area": null,
      "grid_auto_columns": null,
      "grid_auto_flow": null,
      "grid_auto_rows": null,
      "grid_column": null,
      "grid_gap": null,
      "grid_row": null,
      "grid_template_areas": null,
      "grid_template_columns": null,
      "grid_template_rows": null,
      "height": null,
      "justify_content": null,
      "justify_items": null,
      "left": null,
      "margin": null,
      "max_height": null,
      "max_width": null,
      "min_height": null,
      "min_width": null,
      "object_fit": null,
      "object_position": null,
      "order": null,
      "overflow": null,
      "overflow_x": null,
      "overflow_y": null,
      "padding": null,
      "right": null,
      "top": null,
      "visibility": null,
      "width": null
     }
    },
    "115a87eab6944a67819c714ac3d0a409": {
     "model_module": "@jupyter-widgets/controls",
     "model_module_version": "1.5.0",
     "model_name": "HTMLModel",
     "state": {
      "_dom_classes": [],
      "_model_module": "@jupyter-widgets/controls",
      "_model_module_version": "1.5.0",
      "_model_name": "HTMLModel",
      "_view_count": null,
      "_view_module": "@jupyter-widgets/controls",
      "_view_module_version": "1.5.0",
      "_view_name": "HTMLView",
      "description": "",
      "description_tooltip": null,
      "layout": "IPY_MODEL_c8f17d6244bc4d93895d31e748245029",
      "placeholder": "​",
      "style": "IPY_MODEL_d334e17798664b12b4563a07da2b6e3d",
      "value": "Downloading model.safetensors: 100%"
     }
    },
    "140758c2f3de42fca990d3b78ef1641a": {
     "model_module": "@jupyter-widgets/base",
     "model_module_version": "1.2.0",
     "model_name": "LayoutModel",
     "state": {
      "_model_module": "@jupyter-widgets/base",
      "_model_module_version": "1.2.0",
      "_model_name": "LayoutModel",
      "_view_count": null,
      "_view_module": "@jupyter-widgets/base",
      "_view_module_version": "1.2.0",
      "_view_name": "LayoutView",
      "align_content": null,
      "align_items": null,
      "align_self": null,
      "border": null,
      "bottom": null,
      "display": null,
      "flex": null,
      "flex_flow": null,
      "grid_area": null,
      "grid_auto_columns": null,
      "grid_auto_flow": null,
      "grid_auto_rows": null,
      "grid_column": null,
      "grid_gap": null,
      "grid_row": null,
      "grid_template_areas": null,
      "grid_template_columns": null,
      "grid_template_rows": null,
      "height": null,
      "justify_content": null,
      "justify_items": null,
      "left": null,
      "margin": null,
      "max_height": null,
      "max_width": null,
      "min_height": null,
      "min_width": null,
      "object_fit": null,
      "object_position": null,
      "order": null,
      "overflow": null,
      "overflow_x": null,
      "overflow_y": null,
      "padding": null,
      "right": null,
      "top": null,
      "visibility": null,
      "width": null
     }
    },
    "16ea871984724b4ab4ec109c0f641a3b": {
     "model_module": "@jupyter-widgets/controls",
     "model_module_version": "1.5.0",
     "model_name": "DescriptionStyleModel",
     "state": {
      "_model_module": "@jupyter-widgets/controls",
      "_model_module_version": "1.5.0",
      "_model_name": "DescriptionStyleModel",
      "_view_count": null,
      "_view_module": "@jupyter-widgets/base",
      "_view_module_version": "1.2.0",
      "_view_name": "StyleView",
      "description_width": ""
     }
    },
    "176ef2b9ed7f432a98e786e8208ff329": {
     "model_module": "@jupyter-widgets/base",
     "model_module_version": "1.2.0",
     "model_name": "LayoutModel",
     "state": {
      "_model_module": "@jupyter-widgets/base",
      "_model_module_version": "1.2.0",
      "_model_name": "LayoutModel",
      "_view_count": null,
      "_view_module": "@jupyter-widgets/base",
      "_view_module_version": "1.2.0",
      "_view_name": "LayoutView",
      "align_content": null,
      "align_items": null,
      "align_self": null,
      "border": null,
      "bottom": null,
      "display": null,
      "flex": null,
      "flex_flow": null,
      "grid_area": null,
      "grid_auto_columns": null,
      "grid_auto_flow": null,
      "grid_auto_rows": null,
      "grid_column": null,
      "grid_gap": null,
      "grid_row": null,
      "grid_template_areas": null,
      "grid_template_columns": null,
      "grid_template_rows": null,
      "height": null,
      "justify_content": null,
      "justify_items": null,
      "left": null,
      "margin": null,
      "max_height": null,
      "max_width": null,
      "min_height": null,
      "min_width": null,
      "object_fit": null,
      "object_position": null,
      "order": null,
      "overflow": null,
      "overflow_x": null,
      "overflow_y": null,
      "padding": null,
      "right": null,
      "top": null,
      "visibility": null,
      "width": null
     }
    },
    "1eca8a0fa2224fe1950603940312c6a1": {
     "model_module": "@jupyter-widgets/controls",
     "model_module_version": "1.5.0",
     "model_name": "HTMLModel",
     "state": {
      "_dom_classes": [],
      "_model_module": "@jupyter-widgets/controls",
      "_model_module_version": "1.5.0",
      "_model_name": "HTMLModel",
      "_view_count": null,
      "_view_module": "@jupyter-widgets/controls",
      "_view_module_version": "1.5.0",
      "_view_name": "HTMLView",
      "description": "",
      "description_tooltip": null,
      "layout": "IPY_MODEL_176ef2b9ed7f432a98e786e8208ff329",
      "placeholder": "​",
      "style": "IPY_MODEL_26aaac6b1a084ebd9e281a2c7fde8167",
      "value": " 899k/899k [00:00&lt;00:00, 5.66MB/s]"
     }
    },
    "2031d7ef2ecd4ad2a14d1eead05f66a8": {
     "model_module": "@jupyter-widgets/controls",
     "model_module_version": "1.5.0",
     "model_name": "HTMLModel",
     "state": {
      "_dom_classes": [],
      "_model_module": "@jupyter-widgets/controls",
      "_model_module_version": "1.5.0",
      "_model_name": "HTMLModel",
      "_view_count": null,
      "_view_module": "@jupyter-widgets/controls",
      "_view_module_version": "1.5.0",
      "_view_name": "HTMLView",
      "description": "",
      "description_tooltip": null,
      "layout": "IPY_MODEL_5b07a929ffdc400daec61678121076d9",
      "placeholder": "​",
      "style": "IPY_MODEL_16ea871984724b4ab4ec109c0f641a3b",
      "value": "Downloading (…)lve/main/config.json: 100%"
     }
    },
    "23449600ce364810bc958a8667c8ef23": {
     "model_module": "@jupyter-widgets/base",
     "model_module_version": "1.2.0",
     "model_name": "LayoutModel",
     "state": {
      "_model_module": "@jupyter-widgets/base",
      "_model_module_version": "1.2.0",
      "_model_name": "LayoutModel",
      "_view_count": null,
      "_view_module": "@jupyter-widgets/base",
      "_view_module_version": "1.2.0",
      "_view_name": "LayoutView",
      "align_content": null,
      "align_items": null,
      "align_self": null,
      "border": null,
      "bottom": null,
      "display": null,
      "flex": null,
      "flex_flow": null,
      "grid_area": null,
      "grid_auto_columns": null,
      "grid_auto_flow": null,
      "grid_auto_rows": null,
      "grid_column": null,
      "grid_gap": null,
      "grid_row": null,
      "grid_template_areas": null,
      "grid_template_columns": null,
      "grid_template_rows": null,
      "height": null,
      "justify_content": null,
      "justify_items": null,
      "left": null,
      "margin": null,
      "max_height": null,
      "max_width": null,
      "min_height": null,
      "min_width": null,
      "object_fit": null,
      "object_position": null,
      "order": null,
      "overflow": null,
      "overflow_x": null,
      "overflow_y": null,
      "padding": null,
      "right": null,
      "top": null,
      "visibility": null,
      "width": null
     }
    },
    "26aaac6b1a084ebd9e281a2c7fde8167": {
     "model_module": "@jupyter-widgets/controls",
     "model_module_version": "1.5.0",
     "model_name": "DescriptionStyleModel",
     "state": {
      "_model_module": "@jupyter-widgets/controls",
      "_model_module_version": "1.5.0",
      "_model_name": "DescriptionStyleModel",
      "_view_count": null,
      "_view_module": "@jupyter-widgets/base",
      "_view_module_version": "1.2.0",
      "_view_name": "StyleView",
      "description_width": ""
     }
    },
    "27def73872124485b7b2f7fabf4fb5eb": {
     "model_module": "@jupyter-widgets/base",
     "model_module_version": "1.2.0",
     "model_name": "LayoutModel",
     "state": {
      "_model_module": "@jupyter-widgets/base",
      "_model_module_version": "1.2.0",
      "_model_name": "LayoutModel",
      "_view_count": null,
      "_view_module": "@jupyter-widgets/base",
      "_view_module_version": "1.2.0",
      "_view_name": "LayoutView",
      "align_content": null,
      "align_items": null,
      "align_self": null,
      "border": null,
      "bottom": null,
      "display": null,
      "flex": null,
      "flex_flow": null,
      "grid_area": null,
      "grid_auto_columns": null,
      "grid_auto_flow": null,
      "grid_auto_rows": null,
      "grid_column": null,
      "grid_gap": null,
      "grid_row": null,
      "grid_template_areas": null,
      "grid_template_columns": null,
      "grid_template_rows": null,
      "height": null,
      "justify_content": null,
      "justify_items": null,
      "left": null,
      "margin": null,
      "max_height": null,
      "max_width": null,
      "min_height": null,
      "min_width": null,
      "object_fit": null,
      "object_position": null,
      "order": null,
      "overflow": null,
      "overflow_x": null,
      "overflow_y": null,
      "padding": null,
      "right": null,
      "top": null,
      "visibility": null,
      "width": null
     }
    },
    "2ca60967a12a4c4ebdb04db87c1800c6": {
     "model_module": "@jupyter-widgets/controls",
     "model_module_version": "1.5.0",
     "model_name": "FloatProgressModel",
     "state": {
      "_dom_classes": [],
      "_model_module": "@jupyter-widgets/controls",
      "_model_module_version": "1.5.0",
      "_model_name": "FloatProgressModel",
      "_view_count": null,
      "_view_module": "@jupyter-widgets/controls",
      "_view_module_version": "1.5.0",
      "_view_name": "ProgressView",
      "bar_style": "success",
      "description": "",
      "description_tooltip": null,
      "layout": "IPY_MODEL_23449600ce364810bc958a8667c8ef23",
      "max": 898823,
      "min": 0,
      "orientation": "horizontal",
      "style": "IPY_MODEL_6768e4c4afb94da89ed61c71602bdfd8",
      "value": 898823
     }
    },
    "2d49cacf269440649afa56aac79c9d24": {
     "model_module": "@jupyter-widgets/base",
     "model_module_version": "1.2.0",
     "model_name": "LayoutModel",
     "state": {
      "_model_module": "@jupyter-widgets/base",
      "_model_module_version": "1.2.0",
      "_model_name": "LayoutModel",
      "_view_count": null,
      "_view_module": "@jupyter-widgets/base",
      "_view_module_version": "1.2.0",
      "_view_name": "LayoutView",
      "align_content": null,
      "align_items": null,
      "align_self": null,
      "border": null,
      "bottom": null,
      "display": null,
      "flex": null,
      "flex_flow": null,
      "grid_area": null,
      "grid_auto_columns": null,
      "grid_auto_flow": null,
      "grid_auto_rows": null,
      "grid_column": null,
      "grid_gap": null,
      "grid_row": null,
      "grid_template_areas": null,
      "grid_template_columns": null,
      "grid_template_rows": null,
      "height": null,
      "justify_content": null,
      "justify_items": null,
      "left": null,
      "margin": null,
      "max_height": null,
      "max_width": null,
      "min_height": null,
      "min_width": null,
      "object_fit": null,
      "object_position": null,
      "order": null,
      "overflow": null,
      "overflow_x": null,
      "overflow_y": null,
      "padding": null,
      "right": null,
      "top": null,
      "visibility": null,
      "width": null
     }
    },
    "3c4cf95fe06d4e4f91e094f2987afff9": {
     "model_module": "@jupyter-widgets/controls",
     "model_module_version": "1.5.0",
     "model_name": "FloatProgressModel",
     "state": {
      "_dom_classes": [],
      "_model_module": "@jupyter-widgets/controls",
      "_model_module_version": "1.5.0",
      "_model_name": "FloatProgressModel",
      "_view_count": null,
      "_view_module": "@jupyter-widgets/controls",
      "_view_module_version": "1.5.0",
      "_view_name": "ProgressView",
      "bar_style": "success",
      "description": "",
      "description_tooltip": null,
      "layout": "IPY_MODEL_74d08e166dc044298bac253709feba3c",
      "max": 498818054,
      "min": 0,
      "orientation": "horizontal",
      "style": "IPY_MODEL_a9b4075054ec483c83133cf88083cb53",
      "value": 498818054
     }
    },
    "3c6a6e3dfff74be7a6e92604ced33f21": {
     "model_module": "@jupyter-widgets/base",
     "model_module_version": "1.2.0",
     "model_name": "LayoutModel",
     "state": {
      "_model_module": "@jupyter-widgets/base",
      "_model_module_version": "1.2.0",
      "_model_name": "LayoutModel",
      "_view_count": null,
      "_view_module": "@jupyter-widgets/base",
      "_view_module_version": "1.2.0",
      "_view_name": "LayoutView",
      "align_content": null,
      "align_items": null,
      "align_self": null,
      "border": null,
      "bottom": null,
      "display": null,
      "flex": null,
      "flex_flow": null,
      "grid_area": null,
      "grid_auto_columns": null,
      "grid_auto_flow": null,
      "grid_auto_rows": null,
      "grid_column": null,
      "grid_gap": null,
      "grid_row": null,
      "grid_template_areas": null,
      "grid_template_columns": null,
      "grid_template_rows": null,
      "height": null,
      "justify_content": null,
      "justify_items": null,
      "left": null,
      "margin": null,
      "max_height": null,
      "max_width": null,
      "min_height": null,
      "min_width": null,
      "object_fit": null,
      "object_position": null,
      "order": null,
      "overflow": null,
      "overflow_x": null,
      "overflow_y": null,
      "padding": null,
      "right": null,
      "top": null,
      "visibility": null,
      "width": null
     }
    },
    "4142da558d60426a881fcde5624d8d0f": {
     "model_module": "@jupyter-widgets/controls",
     "model_module_version": "1.5.0",
     "model_name": "DescriptionStyleModel",
     "state": {
      "_model_module": "@jupyter-widgets/controls",
      "_model_module_version": "1.5.0",
      "_model_name": "DescriptionStyleModel",
      "_view_count": null,
      "_view_module": "@jupyter-widgets/base",
      "_view_module_version": "1.2.0",
      "_view_name": "StyleView",
      "description_width": ""
     }
    },
    "43dd4111e06548d9bc081f0ca19eabf6": {
     "model_module": "@jupyter-widgets/base",
     "model_module_version": "1.2.0",
     "model_name": "LayoutModel",
     "state": {
      "_model_module": "@jupyter-widgets/base",
      "_model_module_version": "1.2.0",
      "_model_name": "LayoutModel",
      "_view_count": null,
      "_view_module": "@jupyter-widgets/base",
      "_view_module_version": "1.2.0",
      "_view_name": "LayoutView",
      "align_content": null,
      "align_items": null,
      "align_self": null,
      "border": null,
      "bottom": null,
      "display": null,
      "flex": null,
      "flex_flow": null,
      "grid_area": null,
      "grid_auto_columns": null,
      "grid_auto_flow": null,
      "grid_auto_rows": null,
      "grid_column": null,
      "grid_gap": null,
      "grid_row": null,
      "grid_template_areas": null,
      "grid_template_columns": null,
      "grid_template_rows": null,
      "height": null,
      "justify_content": null,
      "justify_items": null,
      "left": null,
      "margin": null,
      "max_height": null,
      "max_width": null,
      "min_height": null,
      "min_width": null,
      "object_fit": null,
      "object_position": null,
      "order": null,
      "overflow": null,
      "overflow_x": null,
      "overflow_y": null,
      "padding": null,
      "right": null,
      "top": null,
      "visibility": null,
      "width": null
     }
    },
    "449ebc3e08fb45588aa0513d5a5a998c": {
     "model_module": "@jupyter-widgets/base",
     "model_module_version": "1.2.0",
     "model_name": "LayoutModel",
     "state": {
      "_model_module": "@jupyter-widgets/base",
      "_model_module_version": "1.2.0",
      "_model_name": "LayoutModel",
      "_view_count": null,
      "_view_module": "@jupyter-widgets/base",
      "_view_module_version": "1.2.0",
      "_view_name": "LayoutView",
      "align_content": null,
      "align_items": null,
      "align_self": null,
      "border": null,
      "bottom": null,
      "display": null,
      "flex": null,
      "flex_flow": null,
      "grid_area": null,
      "grid_auto_columns": null,
      "grid_auto_flow": null,
      "grid_auto_rows": null,
      "grid_column": null,
      "grid_gap": null,
      "grid_row": null,
      "grid_template_areas": null,
      "grid_template_columns": null,
      "grid_template_rows": null,
      "height": null,
      "justify_content": null,
      "justify_items": null,
      "left": null,
      "margin": null,
      "max_height": null,
      "max_width": null,
      "min_height": null,
      "min_width": null,
      "object_fit": null,
      "object_position": null,
      "order": null,
      "overflow": null,
      "overflow_x": null,
      "overflow_y": null,
      "padding": null,
      "right": null,
      "top": null,
      "visibility": null,
      "width": null
     }
    },
    "46ced2c56d6443fea1805157e04016b6": {
     "model_module": "@jupyter-widgets/base",
     "model_module_version": "1.2.0",
     "model_name": "LayoutModel",
     "state": {
      "_model_module": "@jupyter-widgets/base",
      "_model_module_version": "1.2.0",
      "_model_name": "LayoutModel",
      "_view_count": null,
      "_view_module": "@jupyter-widgets/base",
      "_view_module_version": "1.2.0",
      "_view_name": "LayoutView",
      "align_content": null,
      "align_items": null,
      "align_self": null,
      "border": null,
      "bottom": null,
      "display": null,
      "flex": null,
      "flex_flow": null,
      "grid_area": null,
      "grid_auto_columns": null,
      "grid_auto_flow": null,
      "grid_auto_rows": null,
      "grid_column": null,
      "grid_gap": null,
      "grid_row": null,
      "grid_template_areas": null,
      "grid_template_columns": null,
      "grid_template_rows": null,
      "height": null,
      "justify_content": null,
      "justify_items": null,
      "left": null,
      "margin": null,
      "max_height": null,
      "max_width": null,
      "min_height": null,
      "min_width": null,
      "object_fit": null,
      "object_position": null,
      "order": null,
      "overflow": null,
      "overflow_x": null,
      "overflow_y": null,
      "padding": null,
      "right": null,
      "top": null,
      "visibility": null,
      "width": null
     }
    },
    "486b5a5af8144e8ba92af22541512228": {
     "model_module": "@jupyter-widgets/controls",
     "model_module_version": "1.5.0",
     "model_name": "DescriptionStyleModel",
     "state": {
      "_model_module": "@jupyter-widgets/controls",
      "_model_module_version": "1.5.0",
      "_model_name": "DescriptionStyleModel",
      "_view_count": null,
      "_view_module": "@jupyter-widgets/base",
      "_view_module_version": "1.2.0",
      "_view_name": "StyleView",
      "description_width": ""
     }
    },
    "491ac4c7a5754ca08ffe4c997a7d0510": {
     "model_module": "@jupyter-widgets/controls",
     "model_module_version": "1.5.0",
     "model_name": "HTMLModel",
     "state": {
      "_dom_classes": [],
      "_model_module": "@jupyter-widgets/controls",
      "_model_module_version": "1.5.0",
      "_model_name": "HTMLModel",
      "_view_count": null,
      "_view_module": "@jupyter-widgets/controls",
      "_view_module_version": "1.5.0",
      "_view_name": "HTMLView",
      "description": "",
      "description_tooltip": null,
      "layout": "IPY_MODEL_140758c2f3de42fca990d3b78ef1641a",
      "placeholder": "​",
      "style": "IPY_MODEL_712438651ce447c0a7103763f78f98d0",
      "value": " 481/481 [00:00&lt;00:00, 29.8kB/s]"
     }
    },
    "53750011b049432eb656c0d5190ff262": {
     "model_module": "@jupyter-widgets/controls",
     "model_module_version": "1.5.0",
     "model_name": "HBoxModel",
     "state": {
      "_dom_classes": [],
      "_model_module": "@jupyter-widgets/controls",
      "_model_module_version": "1.5.0",
      "_model_name": "HBoxModel",
      "_view_count": null,
      "_view_module": "@jupyter-widgets/controls",
      "_view_module_version": "1.5.0",
      "_view_name": "HBoxView",
      "box_style": "",
      "children": [
       "IPY_MODEL_115a87eab6944a67819c714ac3d0a409",
       "IPY_MODEL_3c4cf95fe06d4e4f91e094f2987afff9",
       "IPY_MODEL_cf3fc0d0afc74448950e765328406215"
      ],
      "layout": "IPY_MODEL_2d49cacf269440649afa56aac79c9d24"
     }
    },
    "548211d9a0d14df3b43787ae584f709b": {
     "model_module": "@jupyter-widgets/base",
     "model_module_version": "1.2.0",
     "model_name": "LayoutModel",
     "state": {
      "_model_module": "@jupyter-widgets/base",
      "_model_module_version": "1.2.0",
      "_model_name": "LayoutModel",
      "_view_count": null,
      "_view_module": "@jupyter-widgets/base",
      "_view_module_version": "1.2.0",
      "_view_name": "LayoutView",
      "align_content": null,
      "align_items": null,
      "align_self": null,
      "border": null,
      "bottom": null,
      "display": null,
      "flex": null,
      "flex_flow": null,
      "grid_area": null,
      "grid_auto_columns": null,
      "grid_auto_flow": null,
      "grid_auto_rows": null,
      "grid_column": null,
      "grid_gap": null,
      "grid_row": null,
      "grid_template_areas": null,
      "grid_template_columns": null,
      "grid_template_rows": null,
      "height": null,
      "justify_content": null,
      "justify_items": null,
      "left": null,
      "margin": null,
      "max_height": null,
      "max_width": null,
      "min_height": null,
      "min_width": null,
      "object_fit": null,
      "object_position": null,
      "order": null,
      "overflow": null,
      "overflow_x": null,
      "overflow_y": null,
      "padding": null,
      "right": null,
      "top": null,
      "visibility": null,
      "width": null
     }
    },
    "5b07a929ffdc400daec61678121076d9": {
     "model_module": "@jupyter-widgets/base",
     "model_module_version": "1.2.0",
     "model_name": "LayoutModel",
     "state": {
      "_model_module": "@jupyter-widgets/base",
      "_model_module_version": "1.2.0",
      "_model_name": "LayoutModel",
      "_view_count": null,
      "_view_module": "@jupyter-widgets/base",
      "_view_module_version": "1.2.0",
      "_view_name": "LayoutView",
      "align_content": null,
      "align_items": null,
      "align_self": null,
      "border": null,
      "bottom": null,
      "display": null,
      "flex": null,
      "flex_flow": null,
      "grid_area": null,
      "grid_auto_columns": null,
      "grid_auto_flow": null,
      "grid_auto_rows": null,
      "grid_column": null,
      "grid_gap": null,
      "grid_row": null,
      "grid_template_areas": null,
      "grid_template_columns": null,
      "grid_template_rows": null,
      "height": null,
      "justify_content": null,
      "justify_items": null,
      "left": null,
      "margin": null,
      "max_height": null,
      "max_width": null,
      "min_height": null,
      "min_width": null,
      "object_fit": null,
      "object_position": null,
      "order": null,
      "overflow": null,
      "overflow_x": null,
      "overflow_y": null,
      "padding": null,
      "right": null,
      "top": null,
      "visibility": null,
      "width": null
     }
    },
    "6768e4c4afb94da89ed61c71602bdfd8": {
     "model_module": "@jupyter-widgets/controls",
     "model_module_version": "1.5.0",
     "model_name": "ProgressStyleModel",
     "state": {
      "_model_module": "@jupyter-widgets/controls",
      "_model_module_version": "1.5.0",
      "_model_name": "ProgressStyleModel",
      "_view_count": null,
      "_view_module": "@jupyter-widgets/base",
      "_view_module_version": "1.2.0",
      "_view_name": "StyleView",
      "bar_color": null,
      "description_width": ""
     }
    },
    "6ce41ed91d034c068a6e38681667ec11": {
     "model_module": "@jupyter-widgets/controls",
     "model_module_version": "1.5.0",
     "model_name": "HTMLModel",
     "state": {
      "_dom_classes": [],
      "_model_module": "@jupyter-widgets/controls",
      "_model_module_version": "1.5.0",
      "_model_name": "HTMLModel",
      "_view_count": null,
      "_view_module": "@jupyter-widgets/controls",
      "_view_module_version": "1.5.0",
      "_view_name": "HTMLView",
      "description": "",
      "description_tooltip": null,
      "layout": "IPY_MODEL_c570d99368884f1ab3710804cd5edcc9",
      "placeholder": "​",
      "style": "IPY_MODEL_e944e2e1ec554204871b69850fd4043f",
      "value": "Downloading (…)olve/main/merges.txt: 100%"
     }
    },
    "712438651ce447c0a7103763f78f98d0": {
     "model_module": "@jupyter-widgets/controls",
     "model_module_version": "1.5.0",
     "model_name": "DescriptionStyleModel",
     "state": {
      "_model_module": "@jupyter-widgets/controls",
      "_model_module_version": "1.5.0",
      "_model_name": "DescriptionStyleModel",
      "_view_count": null,
      "_view_module": "@jupyter-widgets/base",
      "_view_module_version": "1.2.0",
      "_view_name": "StyleView",
      "description_width": ""
     }
    },
    "7451881d395d40eeab5a5c2b418bbf2d": {
     "model_module": "@jupyter-widgets/controls",
     "model_module_version": "1.5.0",
     "model_name": "DescriptionStyleModel",
     "state": {
      "_model_module": "@jupyter-widgets/controls",
      "_model_module_version": "1.5.0",
      "_model_name": "DescriptionStyleModel",
      "_view_count": null,
      "_view_module": "@jupyter-widgets/base",
      "_view_module_version": "1.2.0",
      "_view_name": "StyleView",
      "description_width": ""
     }
    },
    "74d08e166dc044298bac253709feba3c": {
     "model_module": "@jupyter-widgets/base",
     "model_module_version": "1.2.0",
     "model_name": "LayoutModel",
     "state": {
      "_model_module": "@jupyter-widgets/base",
      "_model_module_version": "1.2.0",
      "_model_name": "LayoutModel",
      "_view_count": null,
      "_view_module": "@jupyter-widgets/base",
      "_view_module_version": "1.2.0",
      "_view_name": "LayoutView",
      "align_content": null,
      "align_items": null,
      "align_self": null,
      "border": null,
      "bottom": null,
      "display": null,
      "flex": null,
      "flex_flow": null,
      "grid_area": null,
      "grid_auto_columns": null,
      "grid_auto_flow": null,
      "grid_auto_rows": null,
      "grid_column": null,
      "grid_gap": null,
      "grid_row": null,
      "grid_template_areas": null,
      "grid_template_columns": null,
      "grid_template_rows": null,
      "height": null,
      "justify_content": null,
      "justify_items": null,
      "left": null,
      "margin": null,
      "max_height": null,
      "max_width": null,
      "min_height": null,
      "min_width": null,
      "object_fit": null,
      "object_position": null,
      "order": null,
      "overflow": null,
      "overflow_x": null,
      "overflow_y": null,
      "padding": null,
      "right": null,
      "top": null,
      "visibility": null,
      "width": null
     }
    },
    "806512d5fad14ad0a357037dfb922797": {
     "model_module": "@jupyter-widgets/controls",
     "model_module_version": "1.5.0",
     "model_name": "HBoxModel",
     "state": {
      "_dom_classes": [],
      "_model_module": "@jupyter-widgets/controls",
      "_model_module_version": "1.5.0",
      "_model_name": "HBoxModel",
      "_view_count": null,
      "_view_module": "@jupyter-widgets/controls",
      "_view_module_version": "1.5.0",
      "_view_name": "HBoxView",
      "box_style": "",
      "children": [
       "IPY_MODEL_d962bedc09c8440b9f8945c79c10e003",
       "IPY_MODEL_92607edf2fc549e589a9804a34af8df1",
       "IPY_MODEL_a9175bd13d13456fb925d5b202fd996d"
      ],
      "layout": "IPY_MODEL_c2b52b2e817345bcb53c59989540a3cc"
     }
    },
    "92607edf2fc549e589a9804a34af8df1": {
     "model_module": "@jupyter-widgets/controls",
     "model_module_version": "1.5.0",
     "model_name": "FloatProgressModel",
     "state": {
      "_dom_classes": [],
      "_model_module": "@jupyter-widgets/controls",
      "_model_module_version": "1.5.0",
      "_model_name": "FloatProgressModel",
      "_view_count": null,
      "_view_module": "@jupyter-widgets/controls",
      "_view_module_version": "1.5.0",
      "_view_name": "ProgressView",
      "bar_style": "success",
      "description": "",
      "description_tooltip": null,
      "layout": "IPY_MODEL_27def73872124485b7b2f7fabf4fb5eb",
      "max": 1355863,
      "min": 0,
      "orientation": "horizontal",
      "style": "IPY_MODEL_ba936716316245718d768b2e95763cc4",
      "value": 1355863
     }
    },
    "965c45245380457d8ab119fc95dae007": {
     "model_module": "@jupyter-widgets/base",
     "model_module_version": "1.2.0",
     "model_name": "LayoutModel",
     "state": {
      "_model_module": "@jupyter-widgets/base",
      "_model_module_version": "1.2.0",
      "_model_name": "LayoutModel",
      "_view_count": null,
      "_view_module": "@jupyter-widgets/base",
      "_view_module_version": "1.2.0",
      "_view_name": "LayoutView",
      "align_content": null,
      "align_items": null,
      "align_self": null,
      "border": null,
      "bottom": null,
      "display": null,
      "flex": null,
      "flex_flow": null,
      "grid_area": null,
      "grid_auto_columns": null,
      "grid_auto_flow": null,
      "grid_auto_rows": null,
      "grid_column": null,
      "grid_gap": null,
      "grid_row": null,
      "grid_template_areas": null,
      "grid_template_columns": null,
      "grid_template_rows": null,
      "height": null,
      "justify_content": null,
      "justify_items": null,
      "left": null,
      "margin": null,
      "max_height": null,
      "max_width": null,
      "min_height": null,
      "min_width": null,
      "object_fit": null,
      "object_position": null,
      "order": null,
      "overflow": null,
      "overflow_x": null,
      "overflow_y": null,
      "padding": null,
      "right": null,
      "top": null,
      "visibility": null,
      "width": null
     }
    },
    "9aeda3859cc345978eb4742d43e3b67a": {
     "model_module": "@jupyter-widgets/controls",
     "model_module_version": "1.5.0",
     "model_name": "DescriptionStyleModel",
     "state": {
      "_model_module": "@jupyter-widgets/controls",
      "_model_module_version": "1.5.0",
      "_model_name": "DescriptionStyleModel",
      "_view_count": null,
      "_view_module": "@jupyter-widgets/base",
      "_view_module_version": "1.2.0",
      "_view_name": "StyleView",
      "description_width": ""
     }
    },
    "a5b0e71e78374afa8c2ebf493d36e765": {
     "model_module": "@jupyter-widgets/controls",
     "model_module_version": "1.5.0",
     "model_name": "HTMLModel",
     "state": {
      "_dom_classes": [],
      "_model_module": "@jupyter-widgets/controls",
      "_model_module_version": "1.5.0",
      "_model_name": "HTMLModel",
      "_view_count": null,
      "_view_module": "@jupyter-widgets/controls",
      "_view_module_version": "1.5.0",
      "_view_name": "HTMLView",
      "description": "",
      "description_tooltip": null,
      "layout": "IPY_MODEL_3c6a6e3dfff74be7a6e92604ced33f21",
      "placeholder": "​",
      "style": "IPY_MODEL_4142da558d60426a881fcde5624d8d0f",
      "value": "Downloading (…)olve/main/vocab.json: 100%"
     }
    },
    "a6e98b88d44b4547b28f45356470aace": {
     "model_module": "@jupyter-widgets/controls",
     "model_module_version": "1.5.0",
     "model_name": "ProgressStyleModel",
     "state": {
      "_model_module": "@jupyter-widgets/controls",
      "_model_module_version": "1.5.0",
      "_model_name": "ProgressStyleModel",
      "_view_count": null,
      "_view_module": "@jupyter-widgets/base",
      "_view_module_version": "1.2.0",
      "_view_name": "StyleView",
      "bar_color": null,
      "description_width": ""
     }
    },
    "a9175bd13d13456fb925d5b202fd996d": {
     "model_module": "@jupyter-widgets/controls",
     "model_module_version": "1.5.0",
     "model_name": "HTMLModel",
     "state": {
      "_dom_classes": [],
      "_model_module": "@jupyter-widgets/controls",
      "_model_module_version": "1.5.0",
      "_model_name": "HTMLModel",
      "_view_count": null,
      "_view_module": "@jupyter-widgets/controls",
      "_view_module_version": "1.5.0",
      "_view_name": "HTMLView",
      "description": "",
      "description_tooltip": null,
      "layout": "IPY_MODEL_965c45245380457d8ab119fc95dae007",
      "placeholder": "​",
      "style": "IPY_MODEL_486b5a5af8144e8ba92af22541512228",
      "value": " 1.36M/1.36M [00:00&lt;00:00, 5.43MB/s]"
     }
    },
    "a9b4075054ec483c83133cf88083cb53": {
     "model_module": "@jupyter-widgets/controls",
     "model_module_version": "1.5.0",
     "model_name": "ProgressStyleModel",
     "state": {
      "_model_module": "@jupyter-widgets/controls",
      "_model_module_version": "1.5.0",
      "_model_name": "ProgressStyleModel",
      "_view_count": null,
      "_view_module": "@jupyter-widgets/base",
      "_view_module_version": "1.2.0",
      "_view_name": "StyleView",
      "bar_color": null,
      "description_width": ""
     }
    },
    "b92b40a699f1420a99a556ca072fb3cf": {
     "model_module": "@jupyter-widgets/controls",
     "model_module_version": "1.5.0",
     "model_name": "HBoxModel",
     "state": {
      "_dom_classes": [],
      "_model_module": "@jupyter-widgets/controls",
      "_model_module_version": "1.5.0",
      "_model_name": "HBoxModel",
      "_view_count": null,
      "_view_module": "@jupyter-widgets/controls",
      "_view_module_version": "1.5.0",
      "_view_name": "HBoxView",
      "box_style": "",
      "children": [
       "IPY_MODEL_6ce41ed91d034c068a6e38681667ec11",
       "IPY_MODEL_fc3866bfefd04519822e9db2a7129259",
       "IPY_MODEL_fee20f47cf0b40d3894ef0934435027c"
      ],
      "layout": "IPY_MODEL_43dd4111e06548d9bc081f0ca19eabf6"
     }
    },
    "b9e70618670540199dfa934885e243aa": {
     "model_module": "@jupyter-widgets/base",
     "model_module_version": "1.2.0",
     "model_name": "LayoutModel",
     "state": {
      "_model_module": "@jupyter-widgets/base",
      "_model_module_version": "1.2.0",
      "_model_name": "LayoutModel",
      "_view_count": null,
      "_view_module": "@jupyter-widgets/base",
      "_view_module_version": "1.2.0",
      "_view_name": "LayoutView",
      "align_content": null,
      "align_items": null,
      "align_self": null,
      "border": null,
      "bottom": null,
      "display": null,
      "flex": null,
      "flex_flow": null,
      "grid_area": null,
      "grid_auto_columns": null,
      "grid_auto_flow": null,
      "grid_auto_rows": null,
      "grid_column": null,
      "grid_gap": null,
      "grid_row": null,
      "grid_template_areas": null,
      "grid_template_columns": null,
      "grid_template_rows": null,
      "height": null,
      "justify_content": null,
      "justify_items": null,
      "left": null,
      "margin": null,
      "max_height": null,
      "max_width": null,
      "min_height": null,
      "min_width": null,
      "object_fit": null,
      "object_position": null,
      "order": null,
      "overflow": null,
      "overflow_x": null,
      "overflow_y": null,
      "padding": null,
      "right": null,
      "top": null,
      "visibility": null,
      "width": null
     }
    },
    "ba936716316245718d768b2e95763cc4": {
     "model_module": "@jupyter-widgets/controls",
     "model_module_version": "1.5.0",
     "model_name": "ProgressStyleModel",
     "state": {
      "_model_module": "@jupyter-widgets/controls",
      "_model_module_version": "1.5.0",
      "_model_name": "ProgressStyleModel",
      "_view_count": null,
      "_view_module": "@jupyter-widgets/base",
      "_view_module_version": "1.2.0",
      "_view_name": "StyleView",
      "bar_color": null,
      "description_width": ""
     }
    },
    "be5c2042b43749cb8dedef1f911d04a4": {
     "model_module": "@jupyter-widgets/controls",
     "model_module_version": "1.5.0",
     "model_name": "DescriptionStyleModel",
     "state": {
      "_model_module": "@jupyter-widgets/controls",
      "_model_module_version": "1.5.0",
      "_model_name": "DescriptionStyleModel",
      "_view_count": null,
      "_view_module": "@jupyter-widgets/base",
      "_view_module_version": "1.2.0",
      "_view_name": "StyleView",
      "description_width": ""
     }
    },
    "c047f113fe4a47b38626989b4960ac10": {
     "model_module": "@jupyter-widgets/base",
     "model_module_version": "1.2.0",
     "model_name": "LayoutModel",
     "state": {
      "_model_module": "@jupyter-widgets/base",
      "_model_module_version": "1.2.0",
      "_model_name": "LayoutModel",
      "_view_count": null,
      "_view_module": "@jupyter-widgets/base",
      "_view_module_version": "1.2.0",
      "_view_name": "LayoutView",
      "align_content": null,
      "align_items": null,
      "align_self": null,
      "border": null,
      "bottom": null,
      "display": null,
      "flex": null,
      "flex_flow": null,
      "grid_area": null,
      "grid_auto_columns": null,
      "grid_auto_flow": null,
      "grid_auto_rows": null,
      "grid_column": null,
      "grid_gap": null,
      "grid_row": null,
      "grid_template_areas": null,
      "grid_template_columns": null,
      "grid_template_rows": null,
      "height": null,
      "justify_content": null,
      "justify_items": null,
      "left": null,
      "margin": null,
      "max_height": null,
      "max_width": null,
      "min_height": null,
      "min_width": null,
      "object_fit": null,
      "object_position": null,
      "order": null,
      "overflow": null,
      "overflow_x": null,
      "overflow_y": null,
      "padding": null,
      "right": null,
      "top": null,
      "visibility": null,
      "width": null
     }
    },
    "c2b52b2e817345bcb53c59989540a3cc": {
     "model_module": "@jupyter-widgets/base",
     "model_module_version": "1.2.0",
     "model_name": "LayoutModel",
     "state": {
      "_model_module": "@jupyter-widgets/base",
      "_model_module_version": "1.2.0",
      "_model_name": "LayoutModel",
      "_view_count": null,
      "_view_module": "@jupyter-widgets/base",
      "_view_module_version": "1.2.0",
      "_view_name": "LayoutView",
      "align_content": null,
      "align_items": null,
      "align_self": null,
      "border": null,
      "bottom": null,
      "display": null,
      "flex": null,
      "flex_flow": null,
      "grid_area": null,
      "grid_auto_columns": null,
      "grid_auto_flow": null,
      "grid_auto_rows": null,
      "grid_column": null,
      "grid_gap": null,
      "grid_row": null,
      "grid_template_areas": null,
      "grid_template_columns": null,
      "grid_template_rows": null,
      "height": null,
      "justify_content": null,
      "justify_items": null,
      "left": null,
      "margin": null,
      "max_height": null,
      "max_width": null,
      "min_height": null,
      "min_width": null,
      "object_fit": null,
      "object_position": null,
      "order": null,
      "overflow": null,
      "overflow_x": null,
      "overflow_y": null,
      "padding": null,
      "right": null,
      "top": null,
      "visibility": null,
      "width": null
     }
    },
    "c36e5f3d80884910aa27ca5bef0fffac": {
     "model_module": "@jupyter-widgets/controls",
     "model_module_version": "1.5.0",
     "model_name": "ProgressStyleModel",
     "state": {
      "_model_module": "@jupyter-widgets/controls",
      "_model_module_version": "1.5.0",
      "_model_name": "ProgressStyleModel",
      "_view_count": null,
      "_view_module": "@jupyter-widgets/base",
      "_view_module_version": "1.2.0",
      "_view_name": "StyleView",
      "bar_color": null,
      "description_width": ""
     }
    },
    "c570d99368884f1ab3710804cd5edcc9": {
     "model_module": "@jupyter-widgets/base",
     "model_module_version": "1.2.0",
     "model_name": "LayoutModel",
     "state": {
      "_model_module": "@jupyter-widgets/base",
      "_model_module_version": "1.2.0",
      "_model_name": "LayoutModel",
      "_view_count": null,
      "_view_module": "@jupyter-widgets/base",
      "_view_module_version": "1.2.0",
      "_view_name": "LayoutView",
      "align_content": null,
      "align_items": null,
      "align_self": null,
      "border": null,
      "bottom": null,
      "display": null,
      "flex": null,
      "flex_flow": null,
      "grid_area": null,
      "grid_auto_columns": null,
      "grid_auto_flow": null,
      "grid_auto_rows": null,
      "grid_column": null,
      "grid_gap": null,
      "grid_row": null,
      "grid_template_areas": null,
      "grid_template_columns": null,
      "grid_template_rows": null,
      "height": null,
      "justify_content": null,
      "justify_items": null,
      "left": null,
      "margin": null,
      "max_height": null,
      "max_width": null,
      "min_height": null,
      "min_width": null,
      "object_fit": null,
      "object_position": null,
      "order": null,
      "overflow": null,
      "overflow_x": null,
      "overflow_y": null,
      "padding": null,
      "right": null,
      "top": null,
      "visibility": null,
      "width": null
     }
    },
    "c8f17d6244bc4d93895d31e748245029": {
     "model_module": "@jupyter-widgets/base",
     "model_module_version": "1.2.0",
     "model_name": "LayoutModel",
     "state": {
      "_model_module": "@jupyter-widgets/base",
      "_model_module_version": "1.2.0",
      "_model_name": "LayoutModel",
      "_view_count": null,
      "_view_module": "@jupyter-widgets/base",
      "_view_module_version": "1.2.0",
      "_view_name": "LayoutView",
      "align_content": null,
      "align_items": null,
      "align_self": null,
      "border": null,
      "bottom": null,
      "display": null,
      "flex": null,
      "flex_flow": null,
      "grid_area": null,
      "grid_auto_columns": null,
      "grid_auto_flow": null,
      "grid_auto_rows": null,
      "grid_column": null,
      "grid_gap": null,
      "grid_row": null,
      "grid_template_areas": null,
      "grid_template_columns": null,
      "grid_template_rows": null,
      "height": null,
      "justify_content": null,
      "justify_items": null,
      "left": null,
      "margin": null,
      "max_height": null,
      "max_width": null,
      "min_height": null,
      "min_width": null,
      "object_fit": null,
      "object_position": null,
      "order": null,
      "overflow": null,
      "overflow_x": null,
      "overflow_y": null,
      "padding": null,
      "right": null,
      "top": null,
      "visibility": null,
      "width": null
     }
    },
    "c90176f7170a478197dffb6c7697b22b": {
     "model_module": "@jupyter-widgets/controls",
     "model_module_version": "1.5.0",
     "model_name": "FloatProgressModel",
     "state": {
      "_dom_classes": [],
      "_model_module": "@jupyter-widgets/controls",
      "_model_module_version": "1.5.0",
      "_model_name": "FloatProgressModel",
      "_view_count": null,
      "_view_module": "@jupyter-widgets/controls",
      "_view_module_version": "1.5.0",
      "_view_name": "ProgressView",
      "bar_style": "success",
      "description": "",
      "description_tooltip": null,
      "layout": "IPY_MODEL_449ebc3e08fb45588aa0513d5a5a998c",
      "max": 481,
      "min": 0,
      "orientation": "horizontal",
      "style": "IPY_MODEL_a6e98b88d44b4547b28f45356470aace",
      "value": 481
     }
    },
    "cf3fc0d0afc74448950e765328406215": {
     "model_module": "@jupyter-widgets/controls",
     "model_module_version": "1.5.0",
     "model_name": "HTMLModel",
     "state": {
      "_dom_classes": [],
      "_model_module": "@jupyter-widgets/controls",
      "_model_module_version": "1.5.0",
      "_model_name": "HTMLModel",
      "_view_count": null,
      "_view_module": "@jupyter-widgets/controls",
      "_view_module_version": "1.5.0",
      "_view_name": "HTMLView",
      "description": "",
      "description_tooltip": null,
      "layout": "IPY_MODEL_b9e70618670540199dfa934885e243aa",
      "placeholder": "​",
      "style": "IPY_MODEL_7451881d395d40eeab5a5c2b418bbf2d",
      "value": " 499M/499M [00:01&lt;00:00, 313MB/s]"
     }
    },
    "d334e17798664b12b4563a07da2b6e3d": {
     "model_module": "@jupyter-widgets/controls",
     "model_module_version": "1.5.0",
     "model_name": "DescriptionStyleModel",
     "state": {
      "_model_module": "@jupyter-widgets/controls",
      "_model_module_version": "1.5.0",
      "_model_name": "DescriptionStyleModel",
      "_view_count": null,
      "_view_module": "@jupyter-widgets/base",
      "_view_module_version": "1.2.0",
      "_view_name": "StyleView",
      "description_width": ""
     }
    },
    "d962bedc09c8440b9f8945c79c10e003": {
     "model_module": "@jupyter-widgets/controls",
     "model_module_version": "1.5.0",
     "model_name": "HTMLModel",
     "state": {
      "_dom_classes": [],
      "_model_module": "@jupyter-widgets/controls",
      "_model_module_version": "1.5.0",
      "_model_name": "HTMLModel",
      "_view_count": null,
      "_view_module": "@jupyter-widgets/controls",
      "_view_module_version": "1.5.0",
      "_view_name": "HTMLView",
      "description": "",
      "description_tooltip": null,
      "layout": "IPY_MODEL_107ec73377494768960551235ecc1971",
      "placeholder": "​",
      "style": "IPY_MODEL_9aeda3859cc345978eb4742d43e3b67a",
      "value": "Downloading (…)/main/tokenizer.json: 100%"
     }
    },
    "e1de547aa02c489aae202d183840d5d0": {
     "model_module": "@jupyter-widgets/controls",
     "model_module_version": "1.5.0",
     "model_name": "HBoxModel",
     "state": {
      "_dom_classes": [],
      "_model_module": "@jupyter-widgets/controls",
      "_model_module_version": "1.5.0",
      "_model_name": "HBoxModel",
      "_view_count": null,
      "_view_module": "@jupyter-widgets/controls",
      "_view_module_version": "1.5.0",
      "_view_name": "HBoxView",
      "box_style": "",
      "children": [
       "IPY_MODEL_a5b0e71e78374afa8c2ebf493d36e765",
       "IPY_MODEL_2ca60967a12a4c4ebdb04db87c1800c6",
       "IPY_MODEL_1eca8a0fa2224fe1950603940312c6a1"
      ],
      "layout": "IPY_MODEL_548211d9a0d14df3b43787ae584f709b"
     }
    },
    "e2cd7e05eaf94a8eb505874a6a977fd8": {
     "model_module": "@jupyter-widgets/base",
     "model_module_version": "1.2.0",
     "model_name": "LayoutModel",
     "state": {
      "_model_module": "@jupyter-widgets/base",
      "_model_module_version": "1.2.0",
      "_model_name": "LayoutModel",
      "_view_count": null,
      "_view_module": "@jupyter-widgets/base",
      "_view_module_version": "1.2.0",
      "_view_name": "LayoutView",
      "align_content": null,
      "align_items": null,
      "align_self": null,
      "border": null,
      "bottom": null,
      "display": null,
      "flex": null,
      "flex_flow": null,
      "grid_area": null,
      "grid_auto_columns": null,
      "grid_auto_flow": null,
      "grid_auto_rows": null,
      "grid_column": null,
      "grid_gap": null,
      "grid_row": null,
      "grid_template_areas": null,
      "grid_template_columns": null,
      "grid_template_rows": null,
      "height": null,
      "justify_content": null,
      "justify_items": null,
      "left": null,
      "margin": null,
      "max_height": null,
      "max_width": null,
      "min_height": null,
      "min_width": null,
      "object_fit": null,
      "object_position": null,
      "order": null,
      "overflow": null,
      "overflow_x": null,
      "overflow_y": null,
      "padding": null,
      "right": null,
      "top": null,
      "visibility": null,
      "width": null
     }
    },
    "e944e2e1ec554204871b69850fd4043f": {
     "model_module": "@jupyter-widgets/controls",
     "model_module_version": "1.5.0",
     "model_name": "DescriptionStyleModel",
     "state": {
      "_model_module": "@jupyter-widgets/controls",
      "_model_module_version": "1.5.0",
      "_model_name": "DescriptionStyleModel",
      "_view_count": null,
      "_view_module": "@jupyter-widgets/base",
      "_view_module_version": "1.2.0",
      "_view_name": "StyleView",
      "description_width": ""
     }
    },
    "fc3866bfefd04519822e9db2a7129259": {
     "model_module": "@jupyter-widgets/controls",
     "model_module_version": "1.5.0",
     "model_name": "FloatProgressModel",
     "state": {
      "_dom_classes": [],
      "_model_module": "@jupyter-widgets/controls",
      "_model_module_version": "1.5.0",
      "_model_name": "FloatProgressModel",
      "_view_count": null,
      "_view_module": "@jupyter-widgets/controls",
      "_view_module_version": "1.5.0",
      "_view_name": "ProgressView",
      "bar_style": "success",
      "description": "",
      "description_tooltip": null,
      "layout": "IPY_MODEL_c047f113fe4a47b38626989b4960ac10",
      "max": 456318,
      "min": 0,
      "orientation": "horizontal",
      "style": "IPY_MODEL_c36e5f3d80884910aa27ca5bef0fffac",
      "value": 456318
     }
    },
    "fee20f47cf0b40d3894ef0934435027c": {
     "model_module": "@jupyter-widgets/controls",
     "model_module_version": "1.5.0",
     "model_name": "HTMLModel",
     "state": {
      "_dom_classes": [],
      "_model_module": "@jupyter-widgets/controls",
      "_model_module_version": "1.5.0",
      "_model_name": "HTMLModel",
      "_view_count": null,
      "_view_module": "@jupyter-widgets/controls",
      "_view_module_version": "1.5.0",
      "_view_name": "HTMLView",
      "description": "",
      "description_tooltip": null,
      "layout": "IPY_MODEL_e2cd7e05eaf94a8eb505874a6a977fd8",
      "placeholder": "​",
      "style": "IPY_MODEL_be5c2042b43749cb8dedef1f911d04a4",
      "value": " 456k/456k [00:00&lt;00:00, 5.90MB/s]"
     }
    },
    "ff3ba883af464049b35d8b9cd1416341": {
     "model_module": "@jupyter-widgets/controls",
     "model_module_version": "1.5.0",
     "model_name": "HBoxModel",
     "state": {
      "_dom_classes": [],
      "_model_module": "@jupyter-widgets/controls",
      "_model_module_version": "1.5.0",
      "_model_name": "HBoxModel",
      "_view_count": null,
      "_view_module": "@jupyter-widgets/controls",
      "_view_module_version": "1.5.0",
      "_view_name": "HBoxView",
      "box_style": "",
      "children": [
       "IPY_MODEL_2031d7ef2ecd4ad2a14d1eead05f66a8",
       "IPY_MODEL_c90176f7170a478197dffb6c7697b22b",
       "IPY_MODEL_491ac4c7a5754ca08ffe4c997a7d0510"
      ],
      "layout": "IPY_MODEL_46ced2c56d6443fea1805157e04016b6"
     }
    }
   }
  }
 },
 "nbformat": 4,
 "nbformat_minor": 1
}
